{
 "cells": [
  {
   "cell_type": "code",
   "execution_count": 1,
   "id": "d1c5ef2b-f558-49fc-8491-b860d098d540",
   "metadata": {},
   "outputs": [],
   "source": [
    "import cv2"
   ]
  },
  {
   "cell_type": "code",
   "execution_count": 38,
   "id": "6856e0d5-92fe-459a-b525-110c838c718b",
   "metadata": {},
   "outputs": [],
   "source": [
    "image_path = '01.png'\n",
    "image = cv2.imread(image_path, cv2.IMREAD_GRAYSCALE)\n",
    "\n",
    "scale_percent = 50 # percent of original size\n",
    "width = int(image.shape[1] * scale_percent / 100)\n",
    "height = int(image.shape[0] * scale_percent / 100)\n",
    "dim = (width, height)\n",
    "  \n",
    "# resize image\n",
    "image = cv2.resize(image, dim, interpolation = cv2.INTER_AREA)"
   ]
  },
  {
   "cell_type": "code",
   "execution_count": 43,
   "id": "4015583d-f08a-452f-908f-767007118dc6",
   "metadata": {},
   "outputs": [],
   "source": [
    "# image B&W\n",
    "_, threshold = cv2.threshold(image,  245, 255, cv2.THRESH_BINARY)\n",
    "\n",
    "# Inverse\n",
    "IIMG = cv2.bitwise_not(threshold)\n",
    "\n",
    "\n",
    "cv2.imshow('Image GRAY', image)\n",
    "cv2.imshow('Threshold', threshold)\n",
    "cv2.imshow('I Threshold', IIMG)\n",
    "cv2.waitKey(0)\n",
    "cv2.destroyAllWindows()"
   ]
  },
  {
   "cell_type": "code",
   "execution_count": 58,
   "id": "bfa1f923-f3be-4149-ac3e-632370331c12",
   "metadata": {},
   "outputs": [
    {
     "name": "stdout",
     "output_type": "stream",
     "text": [
      "*Number of objects:  11\n",
      "   - La surface de l'objet n°1: 4804.5\n",
      "   - La surface de l'objet n°2: 4617.0\n",
      "   - La surface de l'objet n°3: 8685.5\n",
      "   - La surface de l'objet n°4: 3274.5\n",
      "   - La surface de l'objet n°5: 4889.0\n",
      "   - La surface de l'objet n°6: 3962.0\n",
      "   - La surface de l'objet n°7: 7205.0\n",
      "   - La surface de l'objet n°8: 9373.0\n",
      "   - La surface de l'objet n°9: 3612.0\n",
      "   - La surface de l'objet n°10: 5835.5\n",
      "   - La surface de l'objet n°11: 2999.5\n"
     ]
    }
   ],
   "source": [
    "contours, _= cv2.findContours(IIMG, cv2.RETR_TREE, cv2.CHAIN_APPROX_NONE)\n",
    "\n",
    "\n",
    "print(\"*Number of objects: \", len(contours))\n",
    "for i, contour in enumerate(contours):\n",
    "    surface = cv2.contourArea(contour)\n",
    "    print(f\"   - La surface de l'objet n°{i + 1}: {surface}\")"
   ]
  }
 ],
 "metadata": {
  "kernelspec": {
   "display_name": "Python 3 (ipykernel)",
   "language": "python",
   "name": "python3"
  },
  "language_info": {
   "codemirror_mode": {
    "name": "ipython",
    "version": 3
   },
   "file_extension": ".py",
   "mimetype": "text/x-python",
   "name": "python",
   "nbconvert_exporter": "python",
   "pygments_lexer": "ipython3",
   "version": "3.10.4"
  }
 },
 "nbformat": 4,
 "nbformat_minor": 5
}
