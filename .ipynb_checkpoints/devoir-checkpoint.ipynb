{
 "cells": [
  {
   "cell_type": "code",
   "execution_count": 1,
   "id": "d1c5ef2b-f558-49fc-8491-b860d098d540",
   "metadata": {},
   "outputs": [],
   "source": [
    "import cv2"
   ]
  },
  {
   "cell_type": "code",
   "execution_count": 2,
   "id": "6856e0d5-92fe-459a-b525-110c838c718b",
   "metadata": {},
   "outputs": [],
   "source": [
    "image_path = '03.png'\n",
    "image = cv2.imread(image_path)"
   ]
  },
  {
   "cell_type": "code",
   "execution_count": 3,
   "id": "e792736d-6092-4bab-9f78-9c0d8c8063b1",
   "metadata": {},
   "outputs": [],
   "source": [
    "cv2.imshow('Image RGB', image)\n",
    "cv2.waitKey(0)\n",
    "cv2.destroyAllWindows()"
   ]
  },
  {
   "cell_type": "code",
   "execution_count": 4,
   "id": "9233b39d-4c72-4245-b0dd-b3ccdb6f634b",
   "metadata": {},
   "outputs": [],
   "source": [
    "image_hsv = cv2.cvtColor(image, cv2.COLOR_BGR2HSV)\n",
    "cv2.imshow('Image HSV', image_hsv)\n",
    "cv2.waitKey(0)\n",
    "cv2.destroyAllWindows()"
   ]
  },
  {
   "cell_type": "code",
   "execution_count": 5,
   "id": "56bc39a6-4315-4b74-926f-0308f5b4332c",
   "metadata": {},
   "outputs": [],
   "source": [
    "image_gray = cv2.cvtColor(image, cv2.COLOR_BGR2GRAY)\n",
    "cv2.imshow('Image GRAY', image_gray)\n",
    "cv2.waitKey(0)\n",
    "cv2.destroyAllWindows()"
   ]
  },
  {
   "cell_type": "code",
   "execution_count": 38,
   "id": "9299b409-4b77-4263-baaa-adb03a2ba41d",
   "metadata": {},
   "outputs": [],
   "source": [
    "# Séparer les canaux R, G, B\n",
    "# no_blue = image[:, :, 0]\n",
    "# no_green = image[:, :, 1]\n",
    "# no_red = image[:, :, 2]\n",
    "no_blue, no_green, no_red = cv2.split(image)"
   ]
  },
  {
   "cell_type": "code",
   "execution_count": 40,
   "id": "fd90ba8e-7aa1-407f-9995-e7c1dc786b7c",
   "metadata": {},
   "outputs": [],
   "source": [
    "# RED\n",
    "cv2.imshow('Image (NO RED)', no_red)\n",
    "\n",
    "cv2.waitKey(0)\n",
    "cv2.destroyAllWindows()"
   ]
  },
  {
   "cell_type": "code",
   "execution_count": 20,
   "id": "d7bd2892-17e0-4a6c-90e1-d5fc960f7c5a",
   "metadata": {},
   "outputs": [],
   "source": [
    "# BLUE\n",
    "cv2.imshow('Image (BLUE)', no_blue)\n",
    "\n",
    "cv2.waitKey(0)\n",
    "cv2.destroyAllWindows()"
   ]
  },
  {
   "cell_type": "code",
   "execution_count": 41,
   "id": "14ccbacc-7f55-4e8f-8ac6-175913f32e5b",
   "metadata": {},
   "outputs": [],
   "source": [
    "# GREEN\n",
    "cv2.imshow('Image (GREEN)', no_green)\n",
    "\n",
    "cv2.waitKey(0)\n",
    "cv2.destroyAllWindows()"
   ]
  },
  {
   "cell_type": "code",
   "execution_count": 42,
   "id": "70639687-8a49-448d-a57e-35687ca5c9d1",
   "metadata": {},
   "outputs": [],
   "source": [
    "gb = no_green + no_blue\n",
    "\n",
    "cv2.imshow('Image (RED)', gb)\n",
    "\n",
    "cv2.waitKey(0)\n",
    "cv2.destroyAllWindows()"
   ]
  },
  {
   "cell_type": "code",
   "execution_count": 43,
   "id": "21c3f02e-285a-4ab9-85ba-b6e494a8653e",
   "metadata": {},
   "outputs": [],
   "source": [
    "rg = no_green + no_red\n",
    "\n",
    "cv2.imshow('Image (BLUE)', rg)\n",
    "\n",
    "cv2.waitKey(0)\n",
    "cv2.destroyAllWindows()"
   ]
  },
  {
   "cell_type": "code",
   "execution_count": 37,
   "id": "4472938c-7dd6-4505-84bc-d871a62f2cdc",
   "metadata": {},
   "outputs": [],
   "source": [
    "rb = no_blue + no_red\n",
    "\n",
    "cv2.imshow('Image (GREEN)', rb)\n",
    "\n",
    "cv2.waitKey(0)\n",
    "cv2.destroyAllWindows()"
   ]
  },
  {
   "cell_type": "code",
   "execution_count": 51,
   "id": "933d4549-8aa3-4556-bcb7-a95c2de65f0d",
   "metadata": {},
   "outputs": [],
   "source": [
    "# Invert each channel\n",
    "IGB = cv2.bitwise_not(gb)\n",
    "IRG = cv2.bitwise_not(rg)\n",
    "IRB = cv2.bitwise_not(rb)"
   ]
  },
  {
   "cell_type": "code",
   "execution_count": 49,
   "id": "01231c24-dcab-4b37-85b0-89bc68096c42",
   "metadata": {},
   "outputs": [],
   "source": [
    "cv2.imshow('Image (IGB)', IGB)\n",
    "\n",
    "cv2.waitKey(0)\n",
    "cv2.destroyAllWindows()"
   ]
  },
  {
   "cell_type": "code",
   "execution_count": 52,
   "id": "abf7880d-5313-4519-b18e-329afe5d33a9",
   "metadata": {},
   "outputs": [],
   "source": [
    "cv2.imshow('Image (IRG)', IRG)\n",
    "\n",
    "cv2.waitKey(0)\n",
    "cv2.destroyAllWindows()"
   ]
  },
  {
   "cell_type": "code",
   "execution_count": 53,
   "id": "ea172078-f9c3-4beb-9d19-68b172a21fe0",
   "metadata": {},
   "outputs": [],
   "source": [
    "cv2.imshow('Image (IRB)', IRB)\n",
    "\n",
    "cv2.waitKey(0)\n",
    "cv2.destroyAllWindows()"
   ]
  }
 ],
 "metadata": {
  "kernelspec": {
   "display_name": "Python 3 (ipykernel)",
   "language": "python",
   "name": "python3"
  },
  "language_info": {
   "codemirror_mode": {
    "name": "ipython",
    "version": 3
   },
   "file_extension": ".py",
   "mimetype": "text/x-python",
   "name": "python",
   "nbconvert_exporter": "python",
   "pygments_lexer": "ipython3",
   "version": "3.10.4"
  }
 },
 "nbformat": 4,
 "nbformat_minor": 5
}
