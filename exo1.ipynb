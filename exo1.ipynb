{
 "cells": [
  {
   "cell_type": "code",
   "execution_count": 1,
   "id": "d1c5ef2b-f558-49fc-8491-b860d098d540",
   "metadata": {},
   "outputs": [],
   "source": [
    "import cv2"
   ]
  },
  {
   "cell_type": "code",
   "execution_count": 2,
   "id": "6856e0d5-92fe-459a-b525-110c838c718b",
   "metadata": {},
   "outputs": [],
   "source": [
    "image_path = '01.png'\n",
    "image = cv2.imread(image_path)"
   ]
  },
  {
   "cell_type": "code",
   "execution_count": 3,
   "id": "e792736d-6092-4bab-9f78-9c0d8c8063b1",
   "metadata": {},
   "outputs": [],
   "source": [
    "cv2.imshow('Image RGB', image)\n",
    "cv2.waitKey(0)\n",
    "cv2.destroyAllWindows()"
   ]
  },
  {
   "cell_type": "code",
   "execution_count": 4,
   "id": "9233b39d-4c72-4245-b0dd-b3ccdb6f634b",
   "metadata": {},
   "outputs": [],
   "source": [
    "image_hsv = cv2.cvtColor(image, cv2.COLOR_BGR2HSV)\n",
    "cv2.imshow('Image HSV', image_hsv)\n",
    "cv2.waitKey(0)\n",
    "cv2.destroyAllWindows()"
   ]
  },
  {
   "cell_type": "code",
   "execution_count": 5,
   "id": "56bc39a6-4315-4b74-926f-0308f5b4332c",
   "metadata": {},
   "outputs": [],
   "source": [
    "image_gray = cv2.cvtColor(image, cv2.COLOR_BGR2GRAY)\n",
    "cv2.imshow('Image GRAY', image_gray)\n",
    "cv2.waitKey(0)\n",
    "cv2.destroyAllWindows()"
   ]
  },
  {
   "cell_type": "code",
   "execution_count": 6,
   "id": "9299b409-4b77-4263-baaa-adb03a2ba41d",
   "metadata": {},
   "outputs": [],
   "source": [
    "# Séparer les canaux R, G, B\n",
    "image_blue, image_green, image_red = cv2.split(image)"
   ]
  },
  {
   "cell_type": "code",
   "execution_count": 7,
   "id": "fd90ba8e-7aa1-407f-9995-e7c1dc786b7c",
   "metadata": {},
   "outputs": [],
   "source": [
    "# RED\n",
    "cv2.imshow('Image (RED)', image_red)\n",
    "\n",
    "cv2.waitKey(0)\n",
    "cv2.destroyAllWindows()"
   ]
  },
  {
   "cell_type": "code",
   "execution_count": 8,
   "id": "d7bd2892-17e0-4a6c-90e1-d5fc960f7c5a",
   "metadata": {},
   "outputs": [],
   "source": [
    "# BLUE\n",
    "cv2.imshow('Image (BLUE)', image_blue)\n",
    "\n",
    "cv2.waitKey(0)\n",
    "cv2.destroyAllWindows()"
   ]
  },
  {
   "cell_type": "code",
   "execution_count": 10,
   "id": "14ccbacc-7f55-4e8f-8ac6-175913f32e5b",
   "metadata": {},
   "outputs": [],
   "source": [
    "# GREEN\n",
    "cv2.imshow('Image (GREEN)', image_green)\n",
    "\n",
    "cv2.waitKey(0)\n",
    "cv2.destroyAllWindows()"
   ]
  },
  {
   "cell_type": "code",
   "execution_count": 11,
   "id": "70639687-8a49-448d-a57e-35687ca5c9d1",
   "metadata": {},
   "outputs": [],
   "source": [
    "GB = cv2.bitwise_or(image_green, image_blue)\n",
    "\n",
    "cv2.imshow('Image (RED)', GB)\n",
    "\n",
    "cv2.waitKey(0)\n",
    "cv2.destroyAllWindows()"
   ]
  },
  {
   "cell_type": "code",
   "execution_count": 12,
   "id": "21c3f02e-285a-4ab9-85ba-b6e494a8653e",
   "metadata": {},
   "outputs": [],
   "source": [
    "RG = cv2.bitwise_or(image_green , image_red)\n",
    "\n",
    "cv2.imshow('Image (BLUE)', RG)\n",
    "\n",
    "cv2.waitKey(0)\n",
    "cv2.destroyAllWindows()"
   ]
  },
  {
   "cell_type": "code",
   "execution_count": 13,
   "id": "4472938c-7dd6-4505-84bc-d871a62f2cdc",
   "metadata": {},
   "outputs": [],
   "source": [
    "# RB = image_blue + image_red\n",
    "RB = cv2.bitwise_or(image_blue, image_red)\n",
    "\n",
    "cv2.imshow('Image (GREEN)', RB)\n",
    "\n",
    "cv2.waitKey(0)\n",
    "cv2.destroyAllWindows()"
   ]
  },
  {
   "cell_type": "code",
   "execution_count": 14,
   "id": "933d4549-8aa3-4556-bcb7-a95c2de65f0d",
   "metadata": {},
   "outputs": [],
   "source": [
    "# Invert each channel\n",
    "IGB = cv2.bitwise_not(GB)\n",
    "IRG = cv2.bitwise_not(RG)\n",
    "IRB = cv2.bitwise_not(RB)"
   ]
  },
  {
   "cell_type": "code",
   "execution_count": 15,
   "id": "01231c24-dcab-4b37-85b0-89bc68096c42",
   "metadata": {},
   "outputs": [],
   "source": [
    "cv2.imshow('Image (IGB)', IGB)\n",
    "\n",
    "cv2.waitKey(0)\n",
    "cv2.destroyAllWindows()"
   ]
  },
  {
   "cell_type": "code",
   "execution_count": 16,
   "id": "abf7880d-5313-4519-b18e-329afe5d33a9",
   "metadata": {},
   "outputs": [],
   "source": [
    "cv2.imshow('Image (IRG)', IRG)\n",
    "\n",
    "cv2.waitKey(0)\n",
    "cv2.destroyAllWindows()"
   ]
  },
  {
   "cell_type": "code",
   "execution_count": 17,
   "id": "ea172078-f9c3-4beb-9d19-68b172a21fe0",
   "metadata": {},
   "outputs": [],
   "source": [
    "cv2.imshow('Image (IRB)', IRB)\n",
    "\n",
    "cv2.waitKey(0)\n",
    "cv2.destroyAllWindows()"
   ]
  },
  {
   "cell_type": "code",
   "execution_count": 22,
   "id": "2bccfdd1-88b4-49f0-88dc-bf750f06a7c5",
   "metadata": {},
   "outputs": [],
   "source": [
    "def get_object_info(image):\n",
    "    contours, _= cv2.findContours(image, cv2.RETR_EXTERNAL, cv2.CHAIN_APPROX_NONE)\n",
    "\n",
    "    print(\"a. Number of objects: \", len(contours))\n",
    "    for i, contour in enumerate(contours):\n",
    "        surface = cv2.contourArea(contour)\n",
    "        print(f\"La surface de l'objet n°{i + 1}: {surface}\")"
   ]
  },
  {
   "cell_type": "code",
   "execution_count": 23,
   "id": "6ce2fbaf-b74a-4b09-8b8d-cae582175133",
   "metadata": {},
   "outputs": [
    {
     "name": "stdout",
     "output_type": "stream",
     "text": [
      "============ IGB ============\n",
      "a. Number of objects:  6\n",
      "La surface de l'objet n°1: 34627.0\n",
      "La surface de l'objet n°2: 10089.0\n",
      "La surface de l'objet n°3: 12406.5\n",
      "La surface de l'objet n°4: 28655.0\n",
      "La surface de l'objet n°5: 37370.0\n",
      "La surface de l'objet n°6: 11414.0\n",
      "============ IRG ============\n",
      "a. Number of objects:  3\n",
      "La surface de l'objet n°1: 19030.0\n",
      "La surface de l'objet n°2: 19165.0\n",
      "La surface de l'objet n°3: 23121.5\n",
      "============ IRB ============\n",
      "a. Number of objects:  2\n",
      "La surface de l'objet n°1: 18409.0\n",
      "La surface de l'objet n°2: 11925.0\n"
     ]
    }
   ],
   "source": [
    "print(\"============ IGB ============\")\n",
    "get_object_info(IGB)\n",
    "\n",
    "print(\"============ IRG ============\")\n",
    "get_object_info(IRG)\n",
    "\n",
    "print(\"============ IRB ============\")\n",
    "get_object_info(IRB)"
   ]
  }
 ],
 "metadata": {
  "kernelspec": {
   "display_name": "Python 3 (ipykernel)",
   "language": "python",
   "name": "python3"
  },
  "language_info": {
   "codemirror_mode": {
    "name": "ipython",
    "version": 3
   },
   "file_extension": ".py",
   "mimetype": "text/x-python",
   "name": "python",
   "nbconvert_exporter": "python",
   "pygments_lexer": "ipython3",
   "version": "3.10.4"
  }
 },
 "nbformat": 4,
 "nbformat_minor": 5
}
